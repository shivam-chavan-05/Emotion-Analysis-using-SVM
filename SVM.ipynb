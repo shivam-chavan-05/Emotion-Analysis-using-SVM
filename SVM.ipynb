{
 "cells": [
  {
   "cell_type": "code",
   "execution_count": 39,
   "metadata": {},
   "outputs": [],
   "source": [
    "import pandas as pd\n",
    "#for better viewing of tables\n",
    "pd.set_option('display.max_columns', None)  # Show all columns\n",
    "pd.set_option('display.max_rows', None)     # Show all rows\n",
    "pd.set_option('display.max_colwidth', None)"
   ]
  },
  {
   "cell_type": "code",
   "execution_count": 40,
   "metadata": {},
   "outputs": [],
   "source": [
    "#loading friends_dev\n",
    "dev_data = pd.read_csv('friends_dev.csv')"
   ]
  },
  {
   "cell_type": "code",
   "execution_count": 41,
   "metadata": {},
   "outputs": [
    {
     "data": {
      "text/html": [
       "<div>\n",
       "<style scoped>\n",
       "    .dataframe tbody tr th:only-of-type {\n",
       "        vertical-align: middle;\n",
       "    }\n",
       "\n",
       "    .dataframe tbody tr th {\n",
       "        vertical-align: top;\n",
       "    }\n",
       "\n",
       "    .dataframe thead th {\n",
       "        text-align: right;\n",
       "    }\n",
       "</style>\n",
       "<table border=\"1\" class=\"dataframe\">\n",
       "  <thead>\n",
       "    <tr style=\"text-align: right;\">\n",
       "      <th></th>\n",
       "      <th>speaker</th>\n",
       "      <th>utterance</th>\n",
       "      <th>emotion</th>\n",
       "      <th>annotation</th>\n",
       "    </tr>\n",
       "  </thead>\n",
       "  <tbody>\n",
       "    <tr>\n",
       "      <th>0</th>\n",
       "      <td>Phoebe</td>\n",
       "      <td>Oh my God, hes lost it. Hes totally lost it.</td>\n",
       "      <td>non-neutral</td>\n",
       "      <td>2120</td>\n",
       "    </tr>\n",
       "    <tr>\n",
       "      <th>1</th>\n",
       "      <td>Monica</td>\n",
       "      <td>What?</td>\n",
       "      <td>surprise</td>\n",
       "      <td>1000130</td>\n",
       "    </tr>\n",
       "    <tr>\n",
       "      <th>2</th>\n",
       "      <td>Ross</td>\n",
       "      <td>Or! Or, we could go to the bank, close our accounts and cut them off at the source.</td>\n",
       "      <td>neutral</td>\n",
       "      <td>3000200</td>\n",
       "    </tr>\n",
       "    <tr>\n",
       "      <th>3</th>\n",
       "      <td>Chandler</td>\n",
       "      <td>Youre a genius!</td>\n",
       "      <td>joy</td>\n",
       "      <td>500000</td>\n",
       "    </tr>\n",
       "    <tr>\n",
       "      <th>4</th>\n",
       "      <td>Joey</td>\n",
       "      <td>Aww, man, now we wont be bank buddies!</td>\n",
       "      <td>sadness</td>\n",
       "      <td>40100</td>\n",
       "    </tr>\n",
       "  </tbody>\n",
       "</table>\n",
       "</div>"
      ],
      "text/plain": [
       "    speaker  \\\n",
       "0    Phoebe   \n",
       "1    Monica   \n",
       "2      Ross   \n",
       "3  Chandler   \n",
       "4      Joey   \n",
       "\n",
       "                                                                             utterance  \\\n",
       "0                                       Oh my God, hes lost it. Hes totally lost it.   \n",
       "1                                                                                What?   \n",
       "2  Or! Or, we could go to the bank, close our accounts and cut them off at the source.   \n",
       "3                                                                     Youre a genius!   \n",
       "4                                              Aww, man, now we wont be bank buddies!   \n",
       "\n",
       "       emotion  annotation  \n",
       "0  non-neutral        2120  \n",
       "1     surprise     1000130  \n",
       "2      neutral     3000200  \n",
       "3          joy      500000  \n",
       "4      sadness       40100  "
      ]
     },
     "execution_count": 41,
     "metadata": {},
     "output_type": "execute_result"
    }
   ],
   "source": [
    "dev_data.head()"
   ]
  },
  {
   "cell_type": "code",
   "execution_count": 42,
   "metadata": {},
   "outputs": [],
   "source": [
    "#loading friends_test\n",
    "test_data = pd.read_csv('friends_test.csv')"
   ]
  },
  {
   "cell_type": "code",
   "execution_count": 43,
   "metadata": {},
   "outputs": [
    {
     "data": {
      "text/html": [
       "<div>\n",
       "<style scoped>\n",
       "    .dataframe tbody tr th:only-of-type {\n",
       "        vertical-align: middle;\n",
       "    }\n",
       "\n",
       "    .dataframe tbody tr th {\n",
       "        vertical-align: top;\n",
       "    }\n",
       "\n",
       "    .dataframe thead th {\n",
       "        text-align: right;\n",
       "    }\n",
       "</style>\n",
       "<table border=\"1\" class=\"dataframe\">\n",
       "  <thead>\n",
       "    <tr style=\"text-align: right;\">\n",
       "      <th></th>\n",
       "      <th>speaker</th>\n",
       "      <th>utterance</th>\n",
       "      <th>emotion</th>\n",
       "      <th>annotation</th>\n",
       "    </tr>\n",
       "  </thead>\n",
       "  <tbody>\n",
       "    <tr>\n",
       "      <th>0</th>\n",
       "      <td>Mark</td>\n",
       "      <td>Why do all youre coffee mugs have numbers on the bottom?</td>\n",
       "      <td>surprise</td>\n",
       "      <td>2000030</td>\n",
       "    </tr>\n",
       "    <tr>\n",
       "      <th>1</th>\n",
       "      <td>Rachel</td>\n",
       "      <td>Oh. Thats so Monica can keep track. That way if one on them is missing, she can be like, Wheres number 27?!</td>\n",
       "      <td>non-neutral</td>\n",
       "      <td>2100011</td>\n",
       "    </tr>\n",
       "    <tr>\n",
       "      <th>2</th>\n",
       "      <td>Rachel</td>\n",
       "      <td>Y'know what?</td>\n",
       "      <td>neutral</td>\n",
       "      <td>3000020</td>\n",
       "    </tr>\n",
       "    <tr>\n",
       "      <th>3</th>\n",
       "      <td>Ross</td>\n",
       "      <td>It didnt.</td>\n",
       "      <td>neutral</td>\n",
       "      <td>5000000</td>\n",
       "    </tr>\n",
       "    <tr>\n",
       "      <th>4</th>\n",
       "      <td>Frank</td>\n",
       "      <td>Okay, so what you used to have with Rachel, is what Ive got with Alice.</td>\n",
       "      <td>joy</td>\n",
       "      <td>1300010</td>\n",
       "    </tr>\n",
       "  </tbody>\n",
       "</table>\n",
       "</div>"
      ],
      "text/plain": [
       "  speaker  \\\n",
       "0    Mark   \n",
       "1  Rachel   \n",
       "2  Rachel   \n",
       "3    Ross   \n",
       "4   Frank   \n",
       "\n",
       "                                                                                                         utterance  \\\n",
       "0                                                        Why do all youre coffee mugs have numbers on the bottom?   \n",
       "1  Oh. Thats so Monica can keep track. That way if one on them is missing, she can be like, Wheres number 27?!   \n",
       "2                                                                                                     Y'know what?   \n",
       "3                                                                                                       It didnt.   \n",
       "4                                         Okay, so what you used to have with Rachel, is what Ive got with Alice.   \n",
       "\n",
       "       emotion  annotation  \n",
       "0     surprise     2000030  \n",
       "1  non-neutral     2100011  \n",
       "2      neutral     3000020  \n",
       "3      neutral     5000000  \n",
       "4          joy     1300010  "
      ]
     },
     "execution_count": 43,
     "metadata": {},
     "output_type": "execute_result"
    }
   ],
   "source": [
    "test_data.head()"
   ]
  },
  {
   "cell_type": "code",
   "execution_count": 44,
   "metadata": {},
   "outputs": [],
   "source": [
    "#loading friends_train\n",
    "train_data = pd.read_csv('friends_train.csv', index_col=0)"
   ]
  },
  {
   "cell_type": "code",
   "execution_count": 45,
   "metadata": {},
   "outputs": [
    {
     "data": {
      "text/html": [
       "<div>\n",
       "<style scoped>\n",
       "    .dataframe tbody tr th:only-of-type {\n",
       "        vertical-align: middle;\n",
       "    }\n",
       "\n",
       "    .dataframe tbody tr th {\n",
       "        vertical-align: top;\n",
       "    }\n",
       "\n",
       "    .dataframe thead th {\n",
       "        text-align: right;\n",
       "    }\n",
       "</style>\n",
       "<table border=\"1\" class=\"dataframe\">\n",
       "  <thead>\n",
       "    <tr style=\"text-align: right;\">\n",
       "      <th></th>\n",
       "      <th>speaker</th>\n",
       "      <th>utterance</th>\n",
       "      <th>emotion</th>\n",
       "      <th>annotation</th>\n",
       "    </tr>\n",
       "  </thead>\n",
       "  <tbody>\n",
       "    <tr>\n",
       "      <th>0</th>\n",
       "      <td>Chandler</td>\n",
       "      <td>also I was the point person on my companys transition from the KL-5 to GR-6 system.</td>\n",
       "      <td>neutral</td>\n",
       "      <td>4100000</td>\n",
       "    </tr>\n",
       "    <tr>\n",
       "      <th>1</th>\n",
       "      <td>The Interviewer</td>\n",
       "      <td>You mustve had your hands full.</td>\n",
       "      <td>neutral</td>\n",
       "      <td>5000000</td>\n",
       "    </tr>\n",
       "    <tr>\n",
       "      <th>2</th>\n",
       "      <td>Chandler</td>\n",
       "      <td>That I did. That I did.</td>\n",
       "      <td>neutral</td>\n",
       "      <td>5000000</td>\n",
       "    </tr>\n",
       "    <tr>\n",
       "      <th>3</th>\n",
       "      <td>The Interviewer</td>\n",
       "      <td>So lets talk a little bit about your duties.</td>\n",
       "      <td>neutral</td>\n",
       "      <td>5000000</td>\n",
       "    </tr>\n",
       "    <tr>\n",
       "      <th>4</th>\n",
       "      <td>Chandler</td>\n",
       "      <td>My duties?  All right.</td>\n",
       "      <td>surprise</td>\n",
       "      <td>2000030</td>\n",
       "    </tr>\n",
       "  </tbody>\n",
       "</table>\n",
       "</div>"
      ],
      "text/plain": [
       "           speaker  \\\n",
       "0         Chandler   \n",
       "1  The Interviewer   \n",
       "2         Chandler   \n",
       "3  The Interviewer   \n",
       "4         Chandler   \n",
       "\n",
       "                                                                              utterance  \\\n",
       "0  also I was the point person on my companys transition from the KL-5 to GR-6 system.   \n",
       "1                                                      You mustve had your hands full.   \n",
       "2                                                               That I did. That I did.   \n",
       "3                                         So lets talk a little bit about your duties.   \n",
       "4                                                                My duties?  All right.   \n",
       "\n",
       "    emotion  annotation  \n",
       "0   neutral     4100000  \n",
       "1   neutral     5000000  \n",
       "2   neutral     5000000  \n",
       "3   neutral     5000000  \n",
       "4  surprise     2000030  "
      ]
     },
     "execution_count": 45,
     "metadata": {},
     "output_type": "execute_result"
    }
   ],
   "source": [
    "train_data.head()"
   ]
  },
  {
   "cell_type": "code",
   "execution_count": 46,
   "metadata": {},
   "outputs": [
    {
     "data": {
      "text/plain": [
       "(10561, 4)"
      ]
     },
     "execution_count": 46,
     "metadata": {},
     "output_type": "execute_result"
    }
   ],
   "source": [
    "train_data.shape"
   ]
  },
  {
   "cell_type": "code",
   "execution_count": 47,
   "metadata": {},
   "outputs": [],
   "source": [
    "#libraries needed for preprocessing of data\n",
    "import nltk\n",
    "from nltk.tokenize import word_tokenize\n",
    "from nltk.corpus import stopwords\n",
    "from nltk.stem import WordNetLemmatizer, PorterStemmer\n",
    "import string"
   ]
  },
  {
   "cell_type": "code",
   "execution_count": 48,
   "metadata": {},
   "outputs": [
    {
     "name": "stderr",
     "output_type": "stream",
     "text": [
      "[nltk_data] Downloading package punkt to C:\\Users\\Student.DESKTOP-\n",
      "[nltk_data]     6DE327B\\AppData\\Roaming\\nltk_data...\n",
      "[nltk_data]   Package punkt is already up-to-date!\n",
      "[nltk_data] Downloading package stopwords to C:\\Users\\Student.DESKTOP-\n",
      "[nltk_data]     6DE327B\\AppData\\Roaming\\nltk_data...\n",
      "[nltk_data]   Package stopwords is already up-to-date!\n",
      "[nltk_data] Downloading package wordnet to C:\\Users\\Student.DESKTOP-\n",
      "[nltk_data]     6DE327B\\AppData\\Roaming\\nltk_data...\n",
      "[nltk_data]   Package wordnet is already up-to-date!\n"
     ]
    },
    {
     "data": {
      "text/plain": [
       "True"
      ]
     },
     "execution_count": 48,
     "metadata": {},
     "output_type": "execute_result"
    }
   ],
   "source": [
    "nltk.download('punkt')\n",
    "nltk.download('stopwords')\n",
    "nltk.download('wordnet')"
   ]
  },
  {
   "cell_type": "code",
   "execution_count": 49,
   "metadata": {},
   "outputs": [],
   "source": [
    "lemmatizer = WordNetLemmatizer()\n",
    "stemmer = PorterStemmer()\n",
    "stop_words = set(stopwords.words('english'))"
   ]
  },
  {
   "cell_type": "code",
   "execution_count": 50,
   "metadata": {},
   "outputs": [],
   "source": [
    "#preprocessing\n",
    "def preprocess_dataframe(data):\n",
    "    def preprocess_text(text):\n",
    "        #tokenizing\n",
    "        tokens = word_tokenize(text)\n",
    "        #lowercasing and removing special characters\n",
    "        tokens = [word.lower() for word in tokens if word.isalpha()]\n",
    "        #removing stopwords\n",
    "        tokens = [word for word in tokens if word not in stop_words]\n",
    "        #lemmatizing and stemming\n",
    "        tokens = [lemmatizer.lemmatize(stemmer.stem(word)) for word in tokens]\n",
    "        preprocessed_text = ' '.join(tokens)\n",
    "\n",
    "        return preprocessed_text\n",
    "\n",
    "    data['preprocessed_text'] = data['utterance'].apply(preprocess_text)\n",
    "    \n",
    "    #removing rows with empty preprocessed text\n",
    "    data = data[data['preprocessed_text'].apply(lambda x: len(x.strip()) > 0)]\n",
    "    \n",
    "    return data"
   ]
  },
  {
   "cell_type": "code",
   "execution_count": 51,
   "metadata": {},
   "outputs": [],
   "source": [
    "#preprocessing all the three dataframes\n",
    "train_data_preprocessed = preprocess_dataframe(train_data)\n",
    "test_data_preprocessed = preprocess_dataframe(test_data)\n",
    "dev_data_preprocessed = preprocess_dataframe(dev_data)"
   ]
  },
  {
   "cell_type": "code",
   "execution_count": 52,
   "metadata": {},
   "outputs": [
    {
     "data": {
      "text/html": [
       "<div>\n",
       "<style scoped>\n",
       "    .dataframe tbody tr th:only-of-type {\n",
       "        vertical-align: middle;\n",
       "    }\n",
       "\n",
       "    .dataframe tbody tr th {\n",
       "        vertical-align: top;\n",
       "    }\n",
       "\n",
       "    .dataframe thead th {\n",
       "        text-align: right;\n",
       "    }\n",
       "</style>\n",
       "<table border=\"1\" class=\"dataframe\">\n",
       "  <thead>\n",
       "    <tr style=\"text-align: right;\">\n",
       "      <th></th>\n",
       "      <th>speaker</th>\n",
       "      <th>utterance</th>\n",
       "      <th>emotion</th>\n",
       "      <th>annotation</th>\n",
       "      <th>preprocessed_text</th>\n",
       "    </tr>\n",
       "  </thead>\n",
       "  <tbody>\n",
       "    <tr>\n",
       "      <th>0</th>\n",
       "      <td>Chandler</td>\n",
       "      <td>also I was the point person on my companys transition from the KL-5 to GR-6 system.</td>\n",
       "      <td>neutral</td>\n",
       "      <td>4100000</td>\n",
       "      <td>also point person transit system</td>\n",
       "    </tr>\n",
       "    <tr>\n",
       "      <th>1</th>\n",
       "      <td>The Interviewer</td>\n",
       "      <td>You mustve had your hands full.</td>\n",
       "      <td>neutral</td>\n",
       "      <td>5000000</td>\n",
       "      <td>hand full</td>\n",
       "    </tr>\n",
       "    <tr>\n",
       "      <th>3</th>\n",
       "      <td>The Interviewer</td>\n",
       "      <td>So lets talk a little bit about your duties.</td>\n",
       "      <td>neutral</td>\n",
       "      <td>5000000</td>\n",
       "      <td>talk littl bit duti</td>\n",
       "    </tr>\n",
       "    <tr>\n",
       "      <th>4</th>\n",
       "      <td>Chandler</td>\n",
       "      <td>My duties?  All right.</td>\n",
       "      <td>surprise</td>\n",
       "      <td>2000030</td>\n",
       "      <td>duti right</td>\n",
       "    </tr>\n",
       "    <tr>\n",
       "      <th>5</th>\n",
       "      <td>The Interviewer</td>\n",
       "      <td>Now youll be heading a whole division, so youll have a lot of duties.</td>\n",
       "      <td>neutral</td>\n",
       "      <td>5000000</td>\n",
       "      <td>head whole divis lot duti</td>\n",
       "    </tr>\n",
       "  </tbody>\n",
       "</table>\n",
       "</div>"
      ],
      "text/plain": [
       "           speaker  \\\n",
       "0         Chandler   \n",
       "1  The Interviewer   \n",
       "3  The Interviewer   \n",
       "4         Chandler   \n",
       "5  The Interviewer   \n",
       "\n",
       "                                                                              utterance  \\\n",
       "0  also I was the point person on my companys transition from the KL-5 to GR-6 system.   \n",
       "1                                                      You mustve had your hands full.   \n",
       "3                                         So lets talk a little bit about your duties.   \n",
       "4                                                                My duties?  All right.   \n",
       "5               Now youll be heading a whole division, so youll have a lot of duties.   \n",
       "\n",
       "    emotion  annotation                 preprocessed_text  \n",
       "0   neutral     4100000  also point person transit system  \n",
       "1   neutral     5000000                         hand full  \n",
       "3   neutral     5000000               talk littl bit duti  \n",
       "4  surprise     2000030                        duti right  \n",
       "5   neutral     5000000         head whole divis lot duti  "
      ]
     },
     "execution_count": 52,
     "metadata": {},
     "output_type": "execute_result"
    }
   ],
   "source": [
    "train_data_preprocessed.head()"
   ]
  },
  {
   "cell_type": "code",
   "execution_count": 53,
   "metadata": {},
   "outputs": [
    {
     "data": {
      "text/html": [
       "<div>\n",
       "<style scoped>\n",
       "    .dataframe tbody tr th:only-of-type {\n",
       "        vertical-align: middle;\n",
       "    }\n",
       "\n",
       "    .dataframe tbody tr th {\n",
       "        vertical-align: top;\n",
       "    }\n",
       "\n",
       "    .dataframe thead th {\n",
       "        text-align: right;\n",
       "    }\n",
       "</style>\n",
       "<table border=\"1\" class=\"dataframe\">\n",
       "  <thead>\n",
       "    <tr style=\"text-align: right;\">\n",
       "      <th></th>\n",
       "      <th>speaker</th>\n",
       "      <th>utterance</th>\n",
       "      <th>emotion</th>\n",
       "      <th>annotation</th>\n",
       "      <th>preprocessed_text</th>\n",
       "    </tr>\n",
       "  </thead>\n",
       "  <tbody>\n",
       "    <tr>\n",
       "      <th>0</th>\n",
       "      <td>Mark</td>\n",
       "      <td>Why do all youre coffee mugs have numbers on the bottom?</td>\n",
       "      <td>surprise</td>\n",
       "      <td>2000030</td>\n",
       "      <td>coffe mug number bottom</td>\n",
       "    </tr>\n",
       "    <tr>\n",
       "      <th>1</th>\n",
       "      <td>Rachel</td>\n",
       "      <td>Oh. Thats so Monica can keep track. That way if one on them is missing, she can be like, Wheres number 27?!</td>\n",
       "      <td>non-neutral</td>\n",
       "      <td>2100011</td>\n",
       "      <td>oh monica keep track way one miss like number</td>\n",
       "    </tr>\n",
       "    <tr>\n",
       "      <th>4</th>\n",
       "      <td>Frank</td>\n",
       "      <td>Okay, so what you used to have with Rachel, is what Ive got with Alice.</td>\n",
       "      <td>joy</td>\n",
       "      <td>1300010</td>\n",
       "      <td>okay use rachel got alic</td>\n",
       "    </tr>\n",
       "    <tr>\n",
       "      <th>5</th>\n",
       "      <td>Joey</td>\n",
       "      <td>Now, wh-what, what is that like?</td>\n",
       "      <td>surprise</td>\n",
       "      <td>1000040</td>\n",
       "      <td>like</td>\n",
       "    </tr>\n",
       "    <tr>\n",
       "      <th>6</th>\n",
       "      <td>Frank</td>\n",
       "      <td>Its so cool man, its so, its just cause being with her is so much better than like not being with her.</td>\n",
       "      <td>joy</td>\n",
       "      <td>2300000</td>\n",
       "      <td>cool man much better like</td>\n",
       "    </tr>\n",
       "  </tbody>\n",
       "</table>\n",
       "</div>"
      ],
      "text/plain": [
       "  speaker  \\\n",
       "0    Mark   \n",
       "1  Rachel   \n",
       "4   Frank   \n",
       "5    Joey   \n",
       "6   Frank   \n",
       "\n",
       "                                                                                                         utterance  \\\n",
       "0                                                        Why do all youre coffee mugs have numbers on the bottom?   \n",
       "1  Oh. Thats so Monica can keep track. That way if one on them is missing, she can be like, Wheres number 27?!   \n",
       "4                                         Okay, so what you used to have with Rachel, is what Ive got with Alice.   \n",
       "5                                                                                 Now, wh-what, what is that like?   \n",
       "6       Its so cool man, its so, its just cause being with her is so much better than like not being with her.   \n",
       "\n",
       "       emotion  annotation                              preprocessed_text  \n",
       "0     surprise     2000030                        coffe mug number bottom  \n",
       "1  non-neutral     2100011  oh monica keep track way one miss like number  \n",
       "4          joy     1300010                       okay use rachel got alic  \n",
       "5     surprise     1000040                                           like  \n",
       "6          joy     2300000                      cool man much better like  "
      ]
     },
     "execution_count": 53,
     "metadata": {},
     "output_type": "execute_result"
    }
   ],
   "source": [
    "test_data_preprocessed.head()"
   ]
  },
  {
   "cell_type": "code",
   "execution_count": 54,
   "metadata": {},
   "outputs": [
    {
     "data": {
      "text/html": [
       "<div>\n",
       "<style scoped>\n",
       "    .dataframe tbody tr th:only-of-type {\n",
       "        vertical-align: middle;\n",
       "    }\n",
       "\n",
       "    .dataframe tbody tr th {\n",
       "        vertical-align: top;\n",
       "    }\n",
       "\n",
       "    .dataframe thead th {\n",
       "        text-align: right;\n",
       "    }\n",
       "</style>\n",
       "<table border=\"1\" class=\"dataframe\">\n",
       "  <thead>\n",
       "    <tr style=\"text-align: right;\">\n",
       "      <th></th>\n",
       "      <th>speaker</th>\n",
       "      <th>utterance</th>\n",
       "      <th>emotion</th>\n",
       "      <th>annotation</th>\n",
       "      <th>preprocessed_text</th>\n",
       "    </tr>\n",
       "  </thead>\n",
       "  <tbody>\n",
       "    <tr>\n",
       "      <th>0</th>\n",
       "      <td>Phoebe</td>\n",
       "      <td>Oh my God, hes lost it. Hes totally lost it.</td>\n",
       "      <td>non-neutral</td>\n",
       "      <td>2120</td>\n",
       "      <td>oh god lost total lost</td>\n",
       "    </tr>\n",
       "    <tr>\n",
       "      <th>2</th>\n",
       "      <td>Ross</td>\n",
       "      <td>Or! Or, we could go to the bank, close our accounts and cut them off at the source.</td>\n",
       "      <td>neutral</td>\n",
       "      <td>3000200</td>\n",
       "      <td>could go bank close account cut sourc</td>\n",
       "    </tr>\n",
       "    <tr>\n",
       "      <th>3</th>\n",
       "      <td>Chandler</td>\n",
       "      <td>Youre a genius!</td>\n",
       "      <td>joy</td>\n",
       "      <td>500000</td>\n",
       "      <td>geniu</td>\n",
       "    </tr>\n",
       "    <tr>\n",
       "      <th>4</th>\n",
       "      <td>Joey</td>\n",
       "      <td>Aww, man, now we wont be bank buddies!</td>\n",
       "      <td>sadness</td>\n",
       "      <td>40100</td>\n",
       "      <td>aww man bank buddi</td>\n",
       "    </tr>\n",
       "    <tr>\n",
       "      <th>5</th>\n",
       "      <td>Chandler</td>\n",
       "      <td>Now, theres two reasons.</td>\n",
       "      <td>neutral</td>\n",
       "      <td>4000010</td>\n",
       "      <td>two reason</td>\n",
       "    </tr>\n",
       "  </tbody>\n",
       "</table>\n",
       "</div>"
      ],
      "text/plain": [
       "    speaker  \\\n",
       "0    Phoebe   \n",
       "2      Ross   \n",
       "3  Chandler   \n",
       "4      Joey   \n",
       "5  Chandler   \n",
       "\n",
       "                                                                             utterance  \\\n",
       "0                                       Oh my God, hes lost it. Hes totally lost it.   \n",
       "2  Or! Or, we could go to the bank, close our accounts and cut them off at the source.   \n",
       "3                                                                     Youre a genius!   \n",
       "4                                              Aww, man, now we wont be bank buddies!   \n",
       "5                                                            Now, theres two reasons.   \n",
       "\n",
       "       emotion  annotation                      preprocessed_text  \n",
       "0  non-neutral        2120                 oh god lost total lost  \n",
       "2      neutral     3000200  could go bank close account cut sourc  \n",
       "3          joy      500000                                  geniu  \n",
       "4      sadness       40100                     aww man bank buddi  \n",
       "5      neutral     4000010                             two reason  "
      ]
     },
     "execution_count": 54,
     "metadata": {},
     "output_type": "execute_result"
    }
   ],
   "source": [
    "dev_data_preprocessed.head()"
   ]
  },
  {
   "cell_type": "code",
   "execution_count": 55,
   "metadata": {},
   "outputs": [],
   "source": [
    "#vectorization\n",
    "from sklearn.feature_extraction.text import TfidfVectorizer"
   ]
  },
  {
   "cell_type": "code",
   "execution_count": 56,
   "metadata": {},
   "outputs": [],
   "source": [
    "#vectorization\n",
    "tfidf_vectorizer = TfidfVectorizer()"
   ]
  },
  {
   "cell_type": "code",
   "execution_count": 57,
   "metadata": {},
   "outputs": [],
   "source": [
    "#vectorization\n",
    "train_tfidf_matrix = tfidf_vectorizer.fit_transform(train_data_preprocessed['preprocessed_text'])\n",
    "test_tfidf_matrix = tfidf_vectorizer.transform(test_data_preprocessed['preprocessed_text'])\n",
    "dev_tfidf_matrix = tfidf_vectorizer.transform(dev_data_preprocessed['preprocessed_text'])"
   ]
  },
  {
   "cell_type": "code",
   "execution_count": 58,
   "metadata": {},
   "outputs": [],
   "source": [
    "#vectorization\n",
    "train_tfidf_array = train_tfidf_matrix.toarray()\n",
    "test_tfidf_array = test_tfidf_matrix.toarray()\n",
    "dev_tfidf_array = dev_tfidf_matrix.toarray()"
   ]
  },
  {
   "cell_type": "code",
   "execution_count": 93,
   "metadata": {},
   "outputs": [
    {
     "name": "stdout",
     "output_type": "stream",
     "text": [
      "training data: (9881, 3993)\n",
      "testing data: (2603, 3993)\n",
      "development data: (1092, 3993)\n"
     ]
    }
   ],
   "source": [
    "print(\"training data:\", train_tfidf_matrix.shape)\n",
    "print(\"testing data:\", test_tfidf_matrix.shape)\n",
    "print(\"development data:\", dev_tfidf_matrix.shape)"
   ]
  },
  {
   "cell_type": "code",
   "execution_count": 62,
   "metadata": {},
   "outputs": [
    {
     "name": "stdout",
     "output_type": "stream",
     "text": [
      "SVM Classifier without Optimization:\n",
      "Accuracy: 0.501728774490972\n",
      "Classification Report:\n",
      "              precision    recall  f1-score   support\n",
      "\n",
      "       anger       0.20      0.01      0.01       154\n",
      "     disgust       0.67      0.06      0.11        66\n",
      "        fear       0.00      0.00      0.00        30\n",
      "         joy       0.54      0.19      0.28       295\n",
      "     neutral       0.51      0.93      0.66      1214\n",
      " non-neutral       0.27      0.09      0.13       515\n",
      "     sadness       0.64      0.11      0.18        84\n",
      "    surprise       0.67      0.23      0.34       245\n",
      "\n",
      "    accuracy                           0.50      2603\n",
      "   macro avg       0.44      0.20      0.22      2603\n",
      "weighted avg       0.47      0.50      0.41      2603\n",
      "\n"
     ]
    },
    {
     "name": "stderr",
     "output_type": "stream",
     "text": [
      "c:\\Users\\Student.DESKTOP-6DE327B\\AppData\\Local\\Programs\\Python\\Python312\\Lib\\site-packages\\sklearn\\metrics\\_classification.py:1509: UndefinedMetricWarning: Precision is ill-defined and being set to 0.0 in labels with no predicted samples. Use `zero_division` parameter to control this behavior.\n",
      "  _warn_prf(average, modifier, f\"{metric.capitalize()} is\", len(result))\n",
      "c:\\Users\\Student.DESKTOP-6DE327B\\AppData\\Local\\Programs\\Python\\Python312\\Lib\\site-packages\\sklearn\\metrics\\_classification.py:1509: UndefinedMetricWarning: Precision is ill-defined and being set to 0.0 in labels with no predicted samples. Use `zero_division` parameter to control this behavior.\n",
      "  _warn_prf(average, modifier, f\"{metric.capitalize()} is\", len(result))\n",
      "c:\\Users\\Student.DESKTOP-6DE327B\\AppData\\Local\\Programs\\Python\\Python312\\Lib\\site-packages\\sklearn\\metrics\\_classification.py:1509: UndefinedMetricWarning: Precision is ill-defined and being set to 0.0 in labels with no predicted samples. Use `zero_division` parameter to control this behavior.\n",
      "  _warn_prf(average, modifier, f\"{metric.capitalize()} is\", len(result))\n"
     ]
    }
   ],
   "source": [
    "#SVM Classifier\n",
    "from sklearn.svm import SVC\n",
    "from sklearn.metrics import classification_report, accuracy_score\n",
    "\n",
    "#default hyperparameters\n",
    "svm_classifier_default = SVC()\n",
    "\n",
    "#training with friends_train\n",
    "svm_classifier_default.fit(train_tfidf_matrix, train_data_preprocessed['emotion'])\n",
    "\n",
    "#predicting on friends_test\n",
    "predictions_default = svm_classifier_default.predict(test_tfidf_matrix)\n",
    "\n",
    "#accuracy and report\n",
    "accuracy_default = accuracy_score(test_data_preprocessed['emotion'], predictions_default)\n",
    "classification_report_default = classification_report(test_data_preprocessed['emotion'], predictions_default)\n",
    "\n",
    "print(\"SVM Classifier without Optimization:\")\n",
    "print(\"Accuracy:\", accuracy_default)\n",
    "print(\"Classification Report:\")\n",
    "print(classification_report_default)\n"
   ]
  },
  {
   "cell_type": "code",
   "execution_count": 63,
   "metadata": {},
   "outputs": [
    {
     "name": "stdout",
     "output_type": "stream",
     "text": [
      "Best hyperparameters: {'C': 1, 'gamma': 'scale', 'kernel': 'rbf'}\n",
      "\n",
      "SVM Classifier with Optimization:\n",
      "Accuracy: 0.501728774490972\n",
      "Classification Report:\n",
      "              precision    recall  f1-score   support\n",
      "\n",
      "       anger       0.20      0.01      0.01       154\n",
      "     disgust       0.67      0.06      0.11        66\n",
      "        fear       0.00      0.00      0.00        30\n",
      "         joy       0.54      0.19      0.28       295\n",
      "     neutral       0.51      0.93      0.66      1214\n",
      " non-neutral       0.27      0.09      0.13       515\n",
      "     sadness       0.64      0.11      0.18        84\n",
      "    surprise       0.67      0.23      0.34       245\n",
      "\n",
      "    accuracy                           0.50      2603\n",
      "   macro avg       0.44      0.20      0.22      2603\n",
      "weighted avg       0.47      0.50      0.41      2603\n",
      "\n"
     ]
    },
    {
     "name": "stderr",
     "output_type": "stream",
     "text": [
      "c:\\Users\\Student.DESKTOP-6DE327B\\AppData\\Local\\Programs\\Python\\Python312\\Lib\\site-packages\\sklearn\\metrics\\_classification.py:1509: UndefinedMetricWarning: Precision is ill-defined and being set to 0.0 in labels with no predicted samples. Use `zero_division` parameter to control this behavior.\n",
      "  _warn_prf(average, modifier, f\"{metric.capitalize()} is\", len(result))\n",
      "c:\\Users\\Student.DESKTOP-6DE327B\\AppData\\Local\\Programs\\Python\\Python312\\Lib\\site-packages\\sklearn\\metrics\\_classification.py:1509: UndefinedMetricWarning: Precision is ill-defined and being set to 0.0 in labels with no predicted samples. Use `zero_division` parameter to control this behavior.\n",
      "  _warn_prf(average, modifier, f\"{metric.capitalize()} is\", len(result))\n",
      "c:\\Users\\Student.DESKTOP-6DE327B\\AppData\\Local\\Programs\\Python\\Python312\\Lib\\site-packages\\sklearn\\metrics\\_classification.py:1509: UndefinedMetricWarning: Precision is ill-defined and being set to 0.0 in labels with no predicted samples. Use `zero_division` parameter to control this behavior.\n",
      "  _warn_prf(average, modifier, f\"{metric.capitalize()} is\", len(result))\n"
     ]
    }
   ],
   "source": [
    "#SVM Classifier with optimization\n",
    "from sklearn.model_selection import GridSearchCV\n",
    "\n",
    "#custom hyperparameter for optimization\n",
    "parameters = {\n",
    "    'kernel': ['linear', 'poly', 'rbf'],\n",
    "    'C': [0.1, 1, 10],\n",
    "    'gamma': ['scale', 'auto']\n",
    "}\n",
    "\n",
    "svm_classifier_optimized = SVC()\n",
    "\n",
    "#grid search to find best hyperparameters\n",
    "grid_search = GridSearchCV(svm_classifier_optimized, parameters, cv=5)\n",
    "grid_search.fit(train_tfidf_matrix, train_data_preprocessed['emotion'])\n",
    "best_params = grid_search.best_params_\n",
    "print(\"Best hyperparameters:\", best_params)\n",
    "\n",
    "#using best hyperparameters for initializing SVM\n",
    "best_svm_classifier = SVC(**best_params)\n",
    "\n",
    "#training with friends_train\n",
    "best_svm_classifier.fit(train_tfidf_matrix, train_data_preprocessed['emotion'])\n",
    "\n",
    "#predicting on friends_test\n",
    "predictions_optimized = best_svm_classifier.predict(test_tfidf_matrix)\n",
    "\n",
    "#accuracy and report\n",
    "accuracy_optimized = accuracy_score(test_data_preprocessed['emotion'], predictions_optimized)\n",
    "classification_report_optimized = classification_report(test_data_preprocessed['emotion'], predictions_optimized)\n",
    "\n",
    "print(\"\\nSVM Classifier with Optimization:\")\n",
    "print(\"Accuracy:\", accuracy_optimized)\n",
    "print(\"Classification Report:\")\n",
    "print(classification_report_optimized)"
   ]
  },
  {
   "cell_type": "code",
   "execution_count": 66,
   "metadata": {},
   "outputs": [
    {
     "name": "stdout",
     "output_type": "stream",
     "text": [
      "Cross-validation scores: [0.49570056 0.48279352 0.49240891 0.48836032 0.49797571]\n",
      "\n",
      "Classification Report (Cross-Validation):\n",
      "              precision    recall  f1-score   support\n",
      "\n",
      "       anger       0.24      0.01      0.02       481\n",
      "     disgust       0.41      0.03      0.06       232\n",
      "        fear       0.00      0.00      0.00       171\n",
      "         joy       0.55      0.17      0.26      1250\n",
      "     neutral       0.49      0.94      0.65      4431\n",
      " non-neutral       0.34      0.08      0.13      1928\n",
      "     sadness       0.50      0.11      0.19       343\n",
      "    surprise       0.64      0.24      0.35      1045\n",
      "\n",
      "    accuracy                           0.49      9881\n",
      "   macro avg       0.40      0.20      0.21      9881\n",
      "weighted avg       0.46      0.49      0.39      9881\n",
      "\n"
     ]
    }
   ],
   "source": [
    "#cross-validation report\n",
    "from sklearn.model_selection import cross_val_score, cross_val_predict\n",
    "\n",
    "#assessing the classifier's performance\n",
    "cv_scores = cross_val_score(best_svm_classifier, train_tfidf_matrix, train_data_preprocessed['emotion'], cv=5)\n",
    "print(\"Cross-validation scores:\", cv_scores)\n",
    "\n",
    "#cross-validated predictions\n",
    "cv_predictions = cross_val_predict(best_svm_classifier, train_tfidf_matrix, train_data_preprocessed['emotion'], cv=5)\n",
    "\n",
    "cv_classification_report = classification_report(train_data_preprocessed['emotion'], cv_predictions)\n",
    "\n",
    "print(\"\\nClassification Report (Cross-Validation):\")\n",
    "print(cv_classification_report)"
   ]
  }
 ],
 "metadata": {
  "kernelspec": {
   "display_name": "Python 3",
   "language": "python",
   "name": "python3"
  },
  "language_info": {
   "codemirror_mode": {
    "name": "ipython",
    "version": 3
   },
   "file_extension": ".py",
   "mimetype": "text/x-python",
   "name": "python",
   "nbconvert_exporter": "python",
   "pygments_lexer": "ipython3",
   "version": "3.12.1"
  }
 },
 "nbformat": 4,
 "nbformat_minor": 2
}
